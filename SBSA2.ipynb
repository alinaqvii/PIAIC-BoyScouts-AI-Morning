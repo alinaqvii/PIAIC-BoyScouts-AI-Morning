{
 "cells": [
  {
   "cell_type": "markdown",
   "metadata": {},
   "source": [
    "# if Statment"
   ]
  },
  {
   "cell_type": "code",
   "execution_count": 2,
   "metadata": {},
   "outputs": [],
   "source": [
    "a= 10\n",
    "b=20"
   ]
  },
  {
   "cell_type": "code",
   "execution_count": 6,
   "metadata": {},
   "outputs": [
    {
     "data": {
      "text/plain": [
       "True"
      ]
     },
     "execution_count": 6,
     "metadata": {},
     "output_type": "execute_result"
    }
   ],
   "source": [
    "a!=b"
   ]
  },
  {
   "cell_type": "code",
   "execution_count": null,
   "metadata": {},
   "outputs": [],
   "source": [
    "a=10\n",
    "b=20\n",
    "if a < b:\n",
    "    print(\"if block\")\n",
    "    \n",
    "else:\n",
    "    print(\"else block\")\n",
    "   \n",
    "    "
   ]
  },
  {
   "cell_type": "code",
   "execution_count": 2,
   "metadata": {},
   "outputs": [
    {
     "name": "stdout",
     "output_type": "stream",
     "text": [
      "Enter the temperature today34\n",
      "its hot weather today\n"
     ]
    }
   ],
   "source": [
    "\n",
    "temp = int(input(\"Enter the temperature today\"))# type casting\n",
    "\n",
    "if temp>30:\n",
    "    print(\"its hot weather today\")\n",
    "else:\n",
    "    print(\"normal weather\")"
   ]
  },
  {
   "cell_type": "markdown",
   "metadata": {},
   "source": [
    "# Nested If's"
   ]
  },
  {
   "cell_type": "code",
   "execution_count": 5,
   "metadata": {},
   "outputs": [
    {
     "name": "stdout",
     "output_type": "stream",
     "text": [
      "do you  have cnic?yes\n",
      "ander chalay jaen\n",
      "is my name in list?no\n",
      "you can not caste vote\n"
     ]
    }
   ],
   "source": [
    "cnic = input(\"do you  have cnic?\")\n",
    "if cnic=='yes':\n",
    "    print(\"ander chalay jaen\")\n",
    "    nameinlist = input(\"is my name in list?\")\n",
    "    if nameinlist=='yes':\n",
    "        print(\"please caste your vote\")\n",
    "    else:\n",
    "        print(\"you can not caste vote\")\n",
    "\n",
    "else:\n",
    "    print(\"you cant caste vote\")"
   ]
  },
  {
   "cell_type": "code",
   "execution_count": null,
   "metadata": {},
   "outputs": [],
   "source": [
    "education@piaic.org"
   ]
  },
  {
   "cell_type": "markdown",
   "metadata": {},
   "source": [
    "# if elif else"
   ]
  },
  {
   "cell_type": "code",
   "execution_count": 13,
   "metadata": {},
   "outputs": [
    {
     "name": "stdout",
     "output_type": "stream",
     "text": [
      "Enter your marks :45\n",
      "your marks are 45 and your grade is Ungraded\n"
     ]
    }
   ],
   "source": [
    "marks = int(input(\"Enter your marks :\"))\n",
    "grade = \" \"\n",
    "if marks>=90:\n",
    "     grade = \"A*\"\n",
    "elif marks>=80:\n",
    "     grade = \"A\"\n",
    "elif marks>=70:\n",
    "     grade=\"B\"\n",
    "elif marks>=60:\n",
    "     grade = \"C\"\n",
    "elif marks>=50:\n",
    "     grade = \"D\"\n",
    "else:\n",
    "     grade =\"Ungraded\"\n",
    "    \n",
    "print(f\"your marks are {marks} and your grade is {grade}\")"
   ]
  },
  {
   "cell_type": "code",
   "execution_count": 16,
   "metadata": {},
   "outputs": [
    {
     "name": "stdout",
     "output_type": "stream",
     "text": [
      "do you  have cnic?no\n",
      "is my name in list?yes\n",
      "you can not\n"
     ]
    }
   ],
   "source": [
    "cnic = input(\"do you  have cnic?\")\n",
    "# this is a comment \n",
    "\n",
    "nameinlist = input(\"is my name in list?\")\n",
    "\n",
    "if (cnic=='yes') and (nameinlist=='yes'):\n",
    "    print(\"caste your vote\")# this is  a print function\n",
    "                            # this empty line\n",
    "else:\n",
    "    '''dfkdfkdjfkdfkjdkjfdkfjkdjfkd\n",
    "    jfkdjfkdjfkjdfkjd\n",
    "    kfjdkjfkd\n",
    "    jfkjdfkjd\n",
    "    \n",
    "    k\n",
    "    \n",
    "    fjdkjf'''\n",
    "    print(\"you can not\")"
   ]
  },
  {
   "cell_type": "markdown",
   "metadata": {},
   "source": [
    "# list"
   ]
  },
  {
   "cell_type": "code",
   "execution_count": 19,
   "metadata": {},
   "outputs": [],
   "source": [
    "#print(\"helo\")"
   ]
  },
  {
   "cell_type": "code",
   "execution_count": 20,
   "metadata": {},
   "outputs": [
    {
     "name": "stdout",
     "output_type": "stream",
     "text": [
      "helo\n",
      "helo\n",
      "helo\n"
     ]
    }
   ],
   "source": [
    "# print(\"helo\")\n",
    "# print(\"helo\")\n",
    "# print(\"helo\")\n",
    "# print(\"helo\")\n",
    "# print(\"helo\")"
   ]
  },
  {
   "cell_type": "code",
   "execution_count": 22,
   "metadata": {},
   "outputs": [
    {
     "data": {
      "text/plain": [
       "['asad', 'nasir', 'aisha', 'fatima']"
      ]
     },
     "execution_count": 22,
     "metadata": {},
     "output_type": "execute_result"
    }
   ],
   "source": [
    "students = [\"asad\", 'nasir', 'aisha', 'fatima']\n",
    "index         0        1        2        3"
   ]
  },
  {
   "cell_type": "code",
   "execution_count": 23,
   "metadata": {},
   "outputs": [
    {
     "data": {
      "text/plain": [
       "'nasir'"
      ]
     },
     "execution_count": 23,
     "metadata": {},
     "output_type": "execute_result"
    }
   ],
   "source": [
    "students[1]"
   ]
  },
  {
   "cell_type": "code",
   "execution_count": 24,
   "metadata": {},
   "outputs": [
    {
     "ename": "IndexError",
     "evalue": "list index out of range",
     "output_type": "error",
     "traceback": [
      "\u001b[1;31m---------------------------------------------------------------------------\u001b[0m",
      "\u001b[1;31mIndexError\u001b[0m                                Traceback (most recent call last)",
      "\u001b[1;32m<ipython-input-24-55850e0b8f87>\u001b[0m in \u001b[0;36m<module>\u001b[1;34m()\u001b[0m\n\u001b[1;32m----> 1\u001b[1;33m \u001b[0mstudents\u001b[0m\u001b[1;33m[\u001b[0m\u001b[1;36m4\u001b[0m\u001b[1;33m]\u001b[0m\u001b[1;33m\u001b[0m\u001b[0m\n\u001b[0m",
      "\u001b[1;31mIndexError\u001b[0m: list index out of range"
     ]
    }
   ],
   "source": [
    "students[4]"
   ]
  },
  {
   "cell_type": "code",
   "execution_count": 25,
   "metadata": {},
   "outputs": [
    {
     "data": {
      "text/plain": [
       "['strig', 34, 34.6, True]"
      ]
     },
     "execution_count": 25,
     "metadata": {},
     "output_type": "execute_result"
    }
   ],
   "source": [
    "list1 = ['strig', 34, 34.6, True]\n",
    "list1"
   ]
  },
  {
   "cell_type": "code",
   "execution_count": 26,
   "metadata": {},
   "outputs": [
    {
     "data": {
      "text/plain": [
       "['asad', 'nasir', 'aisha', 'fatima']"
      ]
     },
     "execution_count": 26,
     "metadata": {},
     "output_type": "execute_result"
    }
   ],
   "source": [
    "students"
   ]
  },
  {
   "cell_type": "code",
   "execution_count": 29,
   "metadata": {},
   "outputs": [
    {
     "data": {
      "text/plain": [
       "['asad', 'nasir', 'aisha', 'fatima', 'hussain', 'hussain', 'hussain']"
      ]
     },
     "execution_count": 29,
     "metadata": {},
     "output_type": "execute_result"
    }
   ],
   "source": [
    "students.append(\"hussain\")\n",
    "students"
   ]
  },
  {
   "cell_type": "code",
   "execution_count": 30,
   "metadata": {},
   "outputs": [],
   "source": [
    "students.insert(3,\"abcd\")"
   ]
  },
  {
   "cell_type": "code",
   "execution_count": 31,
   "metadata": {},
   "outputs": [
    {
     "data": {
      "text/plain": [
       "['asad', 'nasir', 'aisha', 'abcd', 'fatima', 'hussain', 'hussain', 'hussain']"
      ]
     },
     "execution_count": 31,
     "metadata": {},
     "output_type": "execute_result"
    }
   ],
   "source": [
    "students"
   ]
  },
  {
   "cell_type": "code",
   "execution_count": 32,
   "metadata": {},
   "outputs": [],
   "source": [
    "del students[3]"
   ]
  },
  {
   "cell_type": "code",
   "execution_count": 33,
   "metadata": {},
   "outputs": [
    {
     "data": {
      "text/plain": [
       "['asad', 'nasir', 'aisha', 'fatima', 'hussain', 'hussain', 'hussain']"
      ]
     },
     "execution_count": 33,
     "metadata": {},
     "output_type": "execute_result"
    }
   ],
   "source": [
    "students"
   ]
  },
  {
   "cell_type": "code",
   "execution_count": 34,
   "metadata": {},
   "outputs": [],
   "source": [
    "students[2]=\"komal\""
   ]
  },
  {
   "cell_type": "code",
   "execution_count": 35,
   "metadata": {},
   "outputs": [
    {
     "data": {
      "text/plain": [
       "['asad', 'nasir', 'komal', 'fatima', 'hussain', 'hussain', 'hussain']"
      ]
     },
     "execution_count": 35,
     "metadata": {},
     "output_type": "execute_result"
    }
   ],
   "source": [
    "students"
   ]
  },
  {
   "cell_type": "code",
   "execution_count": null,
   "metadata": {},
   "outputs": [],
   "source": []
  },
  {
   "cell_type": "code",
   "execution_count": null,
   "metadata": {},
   "outputs": [],
   "source": []
  },
  {
   "cell_type": "code",
   "execution_count": null,
   "metadata": {},
   "outputs": [],
   "source": []
  }
 ],
 "metadata": {
  "kernelspec": {
   "display_name": "Python 3",
   "language": "python",
   "name": "python3"
  },
  "language_info": {
   "codemirror_mode": {
    "name": "ipython",
    "version": 3
   },
   "file_extension": ".py",
   "mimetype": "text/x-python",
   "name": "python",
   "nbconvert_exporter": "python",
   "pygments_lexer": "ipython3",
   "version": "3.6.4"
  }
 },
 "nbformat": 4,
 "nbformat_minor": 2
}
