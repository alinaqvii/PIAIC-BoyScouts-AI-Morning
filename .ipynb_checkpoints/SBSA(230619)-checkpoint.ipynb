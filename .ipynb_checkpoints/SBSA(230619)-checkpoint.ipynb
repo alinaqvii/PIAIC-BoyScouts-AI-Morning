{
 "cells": [
  {
   "cell_type": "markdown",
   "metadata": {},
   "source": [
    "# Functions"
   ]
  },
  {
   "cell_type": "code",
   "execution_count": 1,
   "metadata": {},
   "outputs": [],
   "source": [
    "# we use functions for reuseability of code."
   ]
  },
  {
   "cell_type": "code",
   "execution_count": 3,
   "metadata": {},
   "outputs": [
    {
     "name": "stdout",
     "output_type": "stream",
     "text": [
      "46\n"
     ]
    }
   ],
   "source": [
    "a = 12 \n",
    "b =34 \n",
    "c =a+b\n",
    "print(c)"
   ]
  },
  {
   "cell_type": "code",
   "execution_count": 4,
   "metadata": {},
   "outputs": [],
   "source": [
    "#function definition\n",
    "def funcName(): \n",
    "    '''it is a paramet less function'''\n",
    "    print(\"i am a function\")"
   ]
  },
  {
   "cell_type": "code",
   "execution_count": 5,
   "metadata": {},
   "outputs": [
    {
     "name": "stdout",
     "output_type": "stream",
     "text": [
      "i am a function\n"
     ]
    }
   ],
   "source": [
    "#function calling\n",
    "funcName()"
   ]
  },
  {
   "cell_type": "code",
   "execution_count": 9,
   "metadata": {},
   "outputs": [],
   "source": [
    "def greeting(name):#parameter of function    \n",
    "    '''it is a parametrised function''' \n",
    "    \n",
    "    print(f\"you are welcome {name}\")\n",
    "\n",
    "    "
   ]
  },
  {
   "cell_type": "code",
   "execution_count": 10,
   "metadata": {},
   "outputs": [
    {
     "name": "stdout",
     "output_type": "stream",
     "text": [
      "you are welcome Ahmed\n"
     ]
    }
   ],
   "source": [
    "greeting(\"Ahmed\") # argument"
   ]
  },
  {
   "cell_type": "code",
   "execution_count": 12,
   "metadata": {},
   "outputs": [
    {
     "name": "stdout",
     "output_type": "stream",
     "text": [
      "you are welcome ali\n"
     ]
    }
   ],
   "source": [
    "greeting(\"ali\")"
   ]
  },
  {
   "cell_type": "code",
   "execution_count": 13,
   "metadata": {},
   "outputs": [
    {
     "name": "stdout",
     "output_type": "stream",
     "text": [
      "you are welcome asad\n"
     ]
    }
   ],
   "source": [
    "greeting(\"asad\")"
   ]
  },
  {
   "cell_type": "code",
   "execution_count": 14,
   "metadata": {},
   "outputs": [],
   "source": [
    "#define a func with name sum it has two parameters\n",
    "# a,b \n",
    "# in body these two parameter will be added and stored\n",
    "# in a c \n",
    "# print the value in the function\n",
    "#calling \n",
    "#call the func by giving to arguments "
   ]
  },
  {
   "cell_type": "code",
   "execution_count": 15,
   "metadata": {},
   "outputs": [],
   "source": [
    "def sum(a,b):\n",
    "    c = a+b\n",
    "    print(f\"The sum is {c}\")"
   ]
  },
  {
   "cell_type": "code",
   "execution_count": 16,
   "metadata": {},
   "outputs": [
    {
     "name": "stdout",
     "output_type": "stream",
     "text": [
      "The sum is 300\n"
     ]
    }
   ],
   "source": [
    "sum(100,200)"
   ]
  },
  {
   "cell_type": "code",
   "execution_count": 17,
   "metadata": {},
   "outputs": [
    {
     "name": "stdout",
     "output_type": "stream",
     "text": [
      "The sum is 7\n"
     ]
    }
   ],
   "source": [
    "sum(2,5)"
   ]
  },
  {
   "cell_type": "code",
   "execution_count": 18,
   "metadata": {},
   "outputs": [],
   "source": [
    "def giveMeFullName(firstName,middleName,lastName):\n",
    "    #fullName = firstName+middleName+lastName\n",
    "    fullName = f\"{firstName} {middleName} {lastName}\"\n",
    "    print(fullName)\n",
    "    "
   ]
  },
  {
   "cell_type": "code",
   "execution_count": 19,
   "metadata": {},
   "outputs": [
    {
     "name": "stdout",
     "output_type": "stream",
     "text": [
      "Farhan Ali Khan\n"
     ]
    }
   ],
   "source": [
    "giveMeFullName(\"Farhan\", 'Ali', 'Khan')#positional args"
   ]
  },
  {
   "cell_type": "code",
   "execution_count": 20,
   "metadata": {},
   "outputs": [
    {
     "name": "stdout",
     "output_type": "stream",
     "text": [
      "Miss Fatima Jinnah\n"
     ]
    }
   ],
   "source": [
    "giveMeFullName(\"Miss\", \"Fatima\", \"Jinnah\")"
   ]
  },
  {
   "cell_type": "code",
   "execution_count": 21,
   "metadata": {},
   "outputs": [
    {
     "name": "stdout",
     "output_type": "stream",
     "text": [
      "hussain nasir agha\n"
     ]
    }
   ],
   "source": [
    "giveMeFullName(\"hussain\", \"nasir\", \"agha\")"
   ]
  },
  {
   "cell_type": "code",
   "execution_count": 22,
   "metadata": {},
   "outputs": [],
   "source": [
    "#key-word argument"
   ]
  },
  {
   "cell_type": "code",
   "execution_count": 23,
   "metadata": {},
   "outputs": [
    {
     "name": "stdout",
     "output_type": "stream",
     "text": [
      "nasir hussain agha\n"
     ]
    }
   ],
   "source": [
    "giveMeFullName(middleName= \"hussain\",firstName= \"nasir\", lastName=\"agha\")"
   ]
  },
  {
   "cell_type": "code",
   "execution_count": 24,
   "metadata": {},
   "outputs": [],
   "source": [
    "# default parameter"
   ]
  },
  {
   "cell_type": "code",
   "execution_count": 35,
   "metadata": {},
   "outputs": [],
   "source": [
    "def giveMeFullName(firstName='',lastName='',middleName=\"\"):\n",
    "    #fullName = firstName+middleName+lastName\n",
    "    fullName = f\"{firstName} {middleName} {lastName}\"\n",
    "    print(fullName)"
   ]
  },
  {
   "cell_type": "code",
   "execution_count": 39,
   "metadata": {},
   "outputs": [
    {
     "name": "stdout",
     "output_type": "stream",
     "text": [
      "pakistan dfa asad\n"
     ]
    }
   ],
   "source": [
    "giveMeFullName(\"pakistan\", 'asad', \"dfa\")"
   ]
  },
  {
   "cell_type": "code",
   "execution_count": null,
   "metadata": {},
   "outputs": [],
   "source": [
    "# local variable ====>     scope===>within func\n",
    "#global variable=====> scope===>everywhere in the func and out of func"
   ]
  },
  {
   "cell_type": "code",
   "execution_count": 63,
   "metadata": {},
   "outputs": [],
   "source": [
    "def sub(u,v):\n",
    "    w= u-v  #local variable   \n",
    "    return w\n",
    "    #print(\"abcd\")"
   ]
  },
  {
   "cell_type": "code",
   "execution_count": 64,
   "metadata": {},
   "outputs": [
    {
     "name": "stdout",
     "output_type": "stream",
     "text": [
      "100\n"
     ]
    }
   ],
   "source": [
    "result = sub(200,100)\n",
    "print(result)"
   ]
  },
  {
   "cell_type": "code",
   "execution_count": 65,
   "metadata": {},
   "outputs": [],
   "source": [
    "def sub(u,v):\n",
    "    w= u-v  #local variable   \n",
    "    return w,\"hello python\"   # returning more than one value\n",
    "    #print(\"abcd\")"
   ]
  },
  {
   "cell_type": "code",
   "execution_count": 66,
   "metadata": {},
   "outputs": [
    {
     "name": "stdout",
     "output_type": "stream",
     "text": [
      "(100, 'hello python')\n"
     ]
    }
   ],
   "source": [
    "result = sub(200,100)\n",
    "print(result)  # more than one value returned in form of tupple "
   ]
  },
  {
   "cell_type": "code",
   "execution_count": 76,
   "metadata": {},
   "outputs": [
    {
     "name": "stdout",
     "output_type": "stream",
     "text": [
      "11 i m a local global pakistan\n"
     ]
    }
   ],
   "source": [
    "def sub(u,v):\n",
    "    global q\n",
    "    global p\n",
    "    p = \"pakistan\"\n",
    "    q= \"i m a local global\"\n",
    "    w= u-v     \n",
    "    return w\n",
    "print(sub(15,4),q,p)"
   ]
  },
  {
   "cell_type": "code",
   "execution_count": null,
   "metadata": {},
   "outputs": [],
   "source": []
  }
 ],
 "metadata": {
  "kernelspec": {
   "display_name": "Python 3",
   "language": "python",
   "name": "python3"
  },
  "language_info": {
   "codemirror_mode": {
    "name": "ipython",
    "version": 3
   },
   "file_extension": ".py",
   "mimetype": "text/x-python",
   "name": "python",
   "nbconvert_exporter": "python",
   "pygments_lexer": "ipython3",
   "version": "3.7.1"
  }
 },
 "nbformat": 4,
 "nbformat_minor": 2
}
