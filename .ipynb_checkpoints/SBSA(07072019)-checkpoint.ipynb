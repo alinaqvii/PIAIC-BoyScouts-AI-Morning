{
 "cells": [
  {
   "cell_type": "markdown",
   "metadata": {},
   "source": [
    "# args, kwargs"
   ]
  },
  {
   "cell_type": "code",
   "execution_count": 1,
   "metadata": {},
   "outputs": [],
   "source": [
    "def car(model, year):\n",
    "    print(model, year)"
   ]
  },
  {
   "cell_type": "code",
   "execution_count": 2,
   "metadata": {},
   "outputs": [
    {
     "name": "stdout",
     "output_type": "stream",
     "text": [
      "corolla 2019\n"
     ]
    }
   ],
   "source": [
    "car('corolla', 2019)"
   ]
  },
  {
   "cell_type": "code",
   "execution_count": 3,
   "metadata": {},
   "outputs": [
    {
     "name": "stdout",
     "output_type": "stream",
     "text": [
      "2019 toyota\n"
     ]
    }
   ],
   "source": [
    "car(2019, 'toyota')"
   ]
  },
  {
   "cell_type": "code",
   "execution_count": 4,
   "metadata": {},
   "outputs": [
    {
     "name": "stdout",
     "output_type": "stream",
     "text": [
      "toyota 2018\n"
     ]
    }
   ],
   "source": [
    "car(year=2018,model='toyota')"
   ]
  },
  {
   "cell_type": "code",
   "execution_count": 5,
   "metadata": {},
   "outputs": [],
   "source": [
    "def name(fname,lname):\n",
    "    print(f'first name: {fname}')\n",
    "    print(f'last name: {lname}')"
   ]
  },
  {
   "cell_type": "code",
   "execution_count": 6,
   "metadata": {},
   "outputs": [
    {
     "name": "stdout",
     "output_type": "stream",
     "text": [
      "first name: hussain\n",
      "last name: ali\n"
     ]
    }
   ],
   "source": [
    "name('hussain', 'ali')"
   ]
  },
  {
   "cell_type": "code",
   "execution_count": 7,
   "metadata": {},
   "outputs": [
    {
     "name": "stdout",
     "output_type": "stream",
     "text": [
      "first name: ali\n",
      "last name: hussain\n"
     ]
    }
   ],
   "source": [
    "name(fname='ali', lname='hussain')"
   ]
  },
  {
   "cell_type": "code",
   "execution_count": 8,
   "metadata": {},
   "outputs": [
    {
     "name": "stdout",
     "output_type": "stream",
     "text": [
      "first name: ali\n",
      "last name: hussain\n"
     ]
    }
   ],
   "source": [
    "name(lname='hussain', fname='ali')"
   ]
  },
  {
   "cell_type": "code",
   "execution_count": 12,
   "metadata": {},
   "outputs": [],
   "source": [
    "def name(fname,mname,lname):\n",
    "    print(f'first name: {fname}')\n",
    "    print(f'middle name: {mname}')\n",
    "    print(f'last name: {lname}')"
   ]
  },
  {
   "cell_type": "code",
   "execution_count": 13,
   "metadata": {},
   "outputs": [
    {
     "ename": "SyntaxError",
     "evalue": "positional argument follows keyword argument (<ipython-input-13-3d3442698754>, line 1)",
     "output_type": "error",
     "traceback": [
      "\u001b[0;36m  File \u001b[0;32m\"<ipython-input-13-3d3442698754>\"\u001b[0;36m, line \u001b[0;32m1\u001b[0m\n\u001b[0;31m    name('John',mname='Walten','Smith')\u001b[0m\n\u001b[0m                              ^\u001b[0m\n\u001b[0;31mSyntaxError\u001b[0m\u001b[0;31m:\u001b[0m positional argument follows keyword argument\n"
     ]
    }
   ],
   "source": [
    "name('John',mname='Walten','Smith')"
   ]
  },
  {
   "cell_type": "code",
   "execution_count": 14,
   "metadata": {},
   "outputs": [],
   "source": [
    "def name(fname,lname,mname):\n",
    "    print(f'first name: {fname}')\n",
    "    print(f'middle name: {mname}')\n",
    "    print(f'last name: {lname}')"
   ]
  },
  {
   "cell_type": "code",
   "execution_count": 15,
   "metadata": {},
   "outputs": [
    {
     "name": "stdout",
     "output_type": "stream",
     "text": [
      "first name: John\n",
      "middle name: Walten\n",
      "last name: Smith\n"
     ]
    }
   ],
   "source": [
    "name('John', 'Smith', mname='Walten')"
   ]
  },
  {
   "cell_type": "markdown",
   "metadata": {},
   "source": [
    "# Arbitary Number of Arguments"
   ]
  },
  {
   "cell_type": "code",
   "execution_count": 16,
   "metadata": {},
   "outputs": [],
   "source": [
    "def pizza(size, flavour, *toppings):\n",
    "    print(size, flavour)\n",
    "    print(toppings)"
   ]
  },
  {
   "cell_type": "code",
   "execution_count": 20,
   "metadata": {},
   "outputs": [
    {
     "name": "stdout",
     "output_type": "stream",
     "text": [
      "large chiken tikka\n",
      "('extra cheese', 'olives', 'Jalapenoes')\n"
     ]
    }
   ],
   "source": [
    "pizza('large', 'chiken tikka', 'extra cheese', 'olives', 'Jalapenoes')"
   ]
  },
  {
   "cell_type": "code",
   "execution_count": 19,
   "metadata": {},
   "outputs": [
    {
     "name": "stdout",
     "output_type": "stream",
     "text": [
      "large chiken tikka\n",
      "('extra cheese',)\n"
     ]
    }
   ],
   "source": [
    "pizza('large', 'chiken tikka', 'extra cheese')"
   ]
  },
  {
   "cell_type": "code",
   "execution_count": 21,
   "metadata": {},
   "outputs": [],
   "source": [
    "def car(make, model, **specs):\n",
    "    print(make, model)\n",
    "    print(specs)"
   ]
  },
  {
   "cell_type": "code",
   "execution_count": 22,
   "metadata": {},
   "outputs": [
    {
     "name": "stdout",
     "output_type": "stream",
     "text": [
      "toyota prius\n",
      "{'transmission': 'Automatic'}\n"
     ]
    }
   ],
   "source": [
    "car('toyota', 'prius', transmission = 'Automatic')"
   ]
  },
  {
   "cell_type": "code",
   "execution_count": 23,
   "metadata": {},
   "outputs": [
    {
     "name": "stdout",
     "output_type": "stream",
     "text": [
      "toyota prius\n",
      "{'transmission': 'Automatic', 'power': 'Yes'}\n"
     ]
    }
   ],
   "source": [
    "car('toyota', 'prius', transmission = 'Automatic', power = 'Yes')"
   ]
  },
  {
   "cell_type": "markdown",
   "metadata": {},
   "source": [
    "# Functions as a Variable"
   ]
  },
  {
   "cell_type": "code",
   "execution_count": 36,
   "metadata": {},
   "outputs": [],
   "source": [
    "def add(a, b):\n",
    "    c = a + b\n",
    "    return c"
   ]
  },
  {
   "cell_type": "code",
   "execution_count": 37,
   "metadata": {},
   "outputs": [],
   "source": [
    "def sub(a, b):\n",
    "    c = a - b\n",
    "    return c"
   ]
  },
  {
   "cell_type": "code",
   "execution_count": 38,
   "metadata": {},
   "outputs": [],
   "source": [
    "result = add(2,2) + sub(6,3)"
   ]
  },
  {
   "cell_type": "code",
   "execution_count": 39,
   "metadata": {},
   "outputs": [
    {
     "name": "stdout",
     "output_type": "stream",
     "text": [
      "7\n"
     ]
    }
   ],
   "source": [
    "print(result)"
   ]
  },
  {
   "cell_type": "code",
   "execution_count": 40,
   "metadata": {},
   "outputs": [
    {
     "name": "stdout",
     "output_type": "stream",
     "text": [
      "nasirhussain\n"
     ]
    }
   ],
   "source": [
    "result = add('nasir','hussain')\n",
    "print(result)"
   ]
  },
  {
   "cell_type": "markdown",
   "metadata": {},
   "source": [
    "# While Loop"
   ]
  },
  {
   "cell_type": "code",
   "execution_count": 43,
   "metadata": {},
   "outputs": [
    {
     "name": "stdout",
     "output_type": "stream",
     "text": [
      "10\n",
      "8\n",
      "6\n",
      "4\n",
      "2\n"
     ]
    }
   ],
   "source": [
    "for a in range(10, 0, -2):\n",
    "    print(a)"
   ]
  },
  {
   "cell_type": "code",
   "execution_count": 42,
   "metadata": {},
   "outputs": [
    {
     "name": "stdout",
     "output_type": "stream",
     "text": [
      "0\n",
      "1\n",
      "2\n",
      "3\n",
      "4\n",
      "5\n",
      "6\n",
      "7\n",
      "8\n",
      "9\n"
     ]
    }
   ],
   "source": [
    "a = 0\n",
    "\n",
    "while a<10:\n",
    "    print(a)\n",
    "    a= a+1"
   ]
  },
  {
   "cell_type": "code",
   "execution_count": null,
   "metadata": {},
   "outputs": [],
   "source": []
  },
  {
   "cell_type": "code",
   "execution_count": 45,
   "metadata": {},
   "outputs": [
    {
     "name": "stdout",
     "output_type": "stream",
     "text": [
      "Enter a toppingabc\n",
      "Enter a toppingz\n",
      "Enter a toppings\n",
      "Enter a toppings\n",
      "Enter a toppingd\n",
      "['abc', 'z', 's', 's', 'd']\n"
     ]
    }
   ],
   "source": [
    "topping = []\n",
    "for a in range(5):\n",
    "    toppings = input('Enter a topping')\n",
    "    topping.append(toppings)\n",
    "    \n",
    "print(topping)"
   ]
  },
  {
   "cell_type": "code",
   "execution_count": 46,
   "metadata": {},
   "outputs": [
    {
     "name": "stdout",
     "output_type": "stream",
     "text": [
      "Enter a toppingav\n",
      "Enter a toppingdbv\n",
      "Enter a toppingabc\n",
      "Enter a toppingdfg\n",
      "Enter a toppinglk\n",
      "Enter a toppingp\n",
      "Enter a toppingasd\n",
      "Enter a toppinggty\n",
      "Enter a toppingcvb\n",
      "Enter a toppingq\n",
      "['av', 'dbv', 'abc', 'dfg', 'lk', 'p', 'asd', 'gty', 'cvb', 'q']\n"
     ]
    }
   ],
   "source": [
    "toppings = []\n",
    "flag = True\n",
    "\n",
    "while flag:\n",
    "    topping = input('Enter a topping')\n",
    "    toppings.append(topping)\n",
    "    if topping == 'q':\n",
    "        flag = False\n",
    "\n",
    "print(toppings)"
   ]
  },
  {
   "cell_type": "code",
   "execution_count": 3,
   "metadata": {},
   "outputs": [
    {
     "name": "stdout",
     "output_type": "stream",
     "text": [
      "Enter a toppingwe\n",
      "Enter a toppingty\n",
      "Enter a toppingq\n",
      "['we', 'ty']\n"
     ]
    }
   ],
   "source": [
    "toppings = []\n",
    "flag = True\n",
    "\n",
    "while flag:\n",
    "    \n",
    "    topping = input('Enter a topping')\n",
    "    if topping == 'q':\n",
    "        flag = False\n",
    "    else:\n",
    "        toppings.append(topping)\n",
    "    \n",
    "    \n",
    "\n",
    "print(toppings)"
   ]
  },
  {
   "cell_type": "code",
   "execution_count": null,
   "metadata": {},
   "outputs": [
    {
     "name": "stdout",
     "output_type": "stream",
     "text": [
      "Pizza Order\n",
      "\n",
      "\n",
      "Enter pizza sizedgfhghjh\n",
      "dgfhghjh not available\n",
      "plz enter the size again\n",
      "Enter pizza sizefgfgf\n"
     ]
    }
   ],
   "source": [
    "availableFlavours = [\"Fjita\", \"Tikka\", \"Mexican\"]\n",
    "availableSize =[\"large\", 'medium','small']\n",
    "availableToppings=['Olives', 'Chesse','Hurbs']\n",
    "print(\"Pizza Order\")\n",
    "print()\n",
    "print()\n",
    "flag = True\n",
    "while flag:\n",
    "    print(availableSize)\n",
    "    size = input(\"Enter pizza size\")\n",
    "    if size not in availableSize:\n",
    "        print(f\"{size} not available\")\n",
    "        print(\"plz enter the size again\")\n",
    "        size = input(\"Enter pizza size\")\n",
    "    \n",
    "        \n",
    "\n",
    "\n"
   ]
  },
  {
   "cell_type": "code",
   "execution_count": null,
   "metadata": {},
   "outputs": [],
   "source": []
  }
 ],
 "metadata": {
  "kernelspec": {
   "display_name": "Python 3",
   "language": "python",
   "name": "python3"
  },
  "language_info": {
   "codemirror_mode": {
    "name": "ipython",
    "version": 3
   },
   "file_extension": ".py",
   "mimetype": "text/x-python",
   "name": "python",
   "nbconvert_exporter": "python",
   "pygments_lexer": "ipython3",
   "version": "3.7.1"
  }
 },
 "nbformat": 4,
 "nbformat_minor": 2
}
